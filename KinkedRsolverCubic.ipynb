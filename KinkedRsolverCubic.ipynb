{
 "cells": [
  {
   "cell_type": "markdown",
   "metadata": {},
   "source": [
    "### Without cubic interp"
   ]
  },
  {
   "cell_type": "code",
   "execution_count": 1,
   "metadata": {},
   "outputs": [],
   "source": [
    "# Initial imports and notebook setup, click arrow to show\n",
    "import sys \n",
    "import os\n",
    "from matplotlib import pyplot as plt\n",
    "\n",
    "from HARK.ConsumptionSaving.ConsIndShockModel import *\n",
    "import HARK.ConsumptionSaving.ConsumerParameters as Params\n",
    "from HARK.utilities import plotFuncsDer, plotFuncs\n",
    "from time import clock\n",
    "mystr = lambda number : \"{:.4f}\".format(number)"
   ]
  },
  {
   "cell_type": "code",
   "execution_count": 2,
   "metadata": {},
   "outputs": [
    {
     "name": "stdout",
     "output_type": "stream",
     "text": [
      "Kinky consumption function:\n"
     ]
    },
    {
     "data": {
      "image/png": "[encoded data removed]",
      "text/plain": [
       "<Figure size 432x288 with 1 Axes>"
      ]
     },
     "metadata": {},
     "output_type": "display_data"
    }
   ],
   "source": [
    "KinkyExample = KinkedRconsumerType(**Params.init_kinked_R)\n",
    "KinkyExample.cycles = 0 # Make the Example infinite horizon\n",
    "KinkyExample.CubicBool = False\n",
    "\n",
    "KinkyExample.solve()\n",
    "KinkyExample.unpackcFunc()\n",
    "print('Kinky consumption function:')\n",
    "\n",
    "income = np.linspace(0, 3, 1000)\n",
    "plt.plot(income, KinkyExample.cFunc[0](income))\n",
    "plt.plot(income, income)\n",
    "plt.xlim(0.8, 1)\n",
    "plt.ylim(0.8, 1)\n",
    "plt.show() #ok so we know that along the 45 degree line the cFunc slope should be 1"
   ]
  },
  {
   "cell_type": "code",
   "execution_count": 3,
   "metadata": {},
   "outputs": [
    {
     "data": {
      "image/png": "[encoded data removed]",
      "text/plain": [
       "<Figure size 432x288 with 1 Axes>"
      ]
     },
     "metadata": {},
     "output_type": "display_data"
    }
   ],
   "source": [
    "plotFuncs(KinkyExample.cFunc[0],0,5.)"
   ]
  },
  {
   "cell_type": "code",
   "execution_count": 4,
   "metadata": {},
   "outputs": [
    {
     "data": {
      "text/plain": [
       "array([0.89189189, 0.89489489, 0.8978979 , 0.9039039 , 0.90690691,\n",
       "       0.90990991, 0.91291291, 0.91891892, 0.92192192, 0.92492492,\n",
       "       0.92792793, 0.93093093, 0.93393393, 0.93693694, 0.93993994,\n",
       "       0.94294294, 0.94594595, 0.94894895, 0.95195195, 0.95495495,\n",
       "       0.95795796, 0.96096096])"
      ]
     },
     "execution_count": 4,
     "metadata": {},
     "output_type": "execute_result"
    }
   ],
   "source": [
    "income[KinkyExample.cFunc[0](income)==income]"
   ]
  },
  {
   "cell_type": "markdown",
   "metadata": {},
   "source": [
    "### With cubic interp"
   ]
  },
  {
   "cell_type": "code",
   "execution_count": 5,
   "metadata": {},
   "outputs": [
    {
     "ename": "ValueError",
     "evalue": "shape mismatch: value array of shape (2,) could not be broadcast to indexing result of shape (2,1)",
     "output_type": "error",
     "traceback": [
      "\u001b[1;31m---------------------------------------------------------------------------\u001b[0m",
      "\u001b[1;31mValueError\u001b[0m                                Traceback (most recent call last)",
      "\u001b[1;32m<ipython-input-5-eb9e2c9047b9>\u001b[0m in \u001b[0;36m<module>\u001b[1;34m()\u001b[0m\n\u001b[0;32m      3\u001b[0m \u001b[0mKinkyExample\u001b[0m\u001b[1;33m.\u001b[0m\u001b[0mCubicBool\u001b[0m \u001b[1;33m=\u001b[0m \u001b[1;32mTrue\u001b[0m\u001b[1;33m\u001b[0m\u001b[0m\n\u001b[0;32m      4\u001b[0m \u001b[1;33m\u001b[0m\u001b[0m\n\u001b[1;32m----> 5\u001b[1;33m \u001b[0mKinkyExample\u001b[0m\u001b[1;33m.\u001b[0m\u001b[0msolve\u001b[0m\u001b[1;33m(\u001b[0m\u001b[1;33m)\u001b[0m\u001b[1;33m\u001b[0m\u001b[0m\n\u001b[0m\u001b[0;32m      6\u001b[0m \u001b[0mKinkyExample\u001b[0m\u001b[1;33m.\u001b[0m\u001b[0munpackcFunc\u001b[0m\u001b[1;33m(\u001b[0m\u001b[1;33m)\u001b[0m\u001b[1;33m\u001b[0m\u001b[0m\n\u001b[0;32m      7\u001b[0m \u001b[0mprint\u001b[0m\u001b[1;33m(\u001b[0m\u001b[1;34m'Kinky consumption function:'\u001b[0m\u001b[1;33m)\u001b[0m\u001b[1;33m\u001b[0m\u001b[0m\n",
      "\u001b[1;32m~\\Anaconda3\\lib\\site-packages\\HARK\\core.py\u001b[0m in \u001b[0;36msolve\u001b[1;34m(self, verbose)\u001b[0m\n\u001b[0;32m    374\u001b[0m \u001b[1;33m\u001b[0m\u001b[0m\n\u001b[0;32m    375\u001b[0m         \u001b[0mself\u001b[0m\u001b[1;33m.\u001b[0m\u001b[0mpreSolve\u001b[0m\u001b[1;33m(\u001b[0m\u001b[1;33m)\u001b[0m \u001b[1;31m# Do pre-solution stuff\u001b[0m\u001b[1;33m\u001b[0m\u001b[0m\n\u001b[1;32m--> 376\u001b[1;33m         \u001b[0mself\u001b[0m\u001b[1;33m.\u001b[0m\u001b[0msolution\u001b[0m \u001b[1;33m=\u001b[0m \u001b[0msolveAgent\u001b[0m\u001b[1;33m(\u001b[0m\u001b[0mself\u001b[0m\u001b[1;33m,\u001b[0m\u001b[0mverbose\u001b[0m\u001b[1;33m)\u001b[0m \u001b[1;31m# Solve the model by backward induction\u001b[0m\u001b[1;33m\u001b[0m\u001b[0m\n\u001b[0m\u001b[0;32m    377\u001b[0m         \u001b[1;32mif\u001b[0m \u001b[0mself\u001b[0m\u001b[1;33m.\u001b[0m\u001b[0mtime_flow\u001b[0m\u001b[1;33m:\u001b[0m \u001b[1;31m# Put the solution in chronological order if this instance's time flow runs that way\u001b[0m\u001b[1;33m\u001b[0m\u001b[0m\n\u001b[0;32m    378\u001b[0m             \u001b[0mself\u001b[0m\u001b[1;33m.\u001b[0m\u001b[0msolution\u001b[0m\u001b[1;33m.\u001b[0m\u001b[0mreverse\u001b[0m\u001b[1;33m(\u001b[0m\u001b[1;33m)\u001b[0m\u001b[1;33m\u001b[0m\u001b[0m\n",
      "\u001b[1;32m~\\Anaconda3\\lib\\site-packages\\HARK\\core.py\u001b[0m in \u001b[0;36msolveAgent\u001b[1;34m(agent, verbose)\u001b[0m\n\u001b[0;32m    752\u001b[0m     \u001b[1;32mwhile\u001b[0m \u001b[0mgo\u001b[0m\u001b[1;33m:\u001b[0m\u001b[1;33m\u001b[0m\u001b[0m\n\u001b[0;32m    753\u001b[0m         \u001b[1;31m# Solve a cycle of the model, recording it if horizon is finite\u001b[0m\u001b[1;33m\u001b[0m\u001b[1;33m\u001b[0m\u001b[0m\n\u001b[1;32m--> 754\u001b[1;33m         \u001b[0msolution_cycle\u001b[0m \u001b[1;33m=\u001b[0m \u001b[0msolveOneCycle\u001b[0m\u001b[1;33m(\u001b[0m\u001b[0magent\u001b[0m\u001b[1;33m,\u001b[0m\u001b[0msolution_last\u001b[0m\u001b[1;33m)\u001b[0m\u001b[1;33m\u001b[0m\u001b[0m\n\u001b[0m\u001b[0;32m    755\u001b[0m         \u001b[1;32mif\u001b[0m \u001b[1;32mnot\u001b[0m \u001b[0minfinite_horizon\u001b[0m\u001b[1;33m:\u001b[0m\u001b[1;33m\u001b[0m\u001b[0m\n\u001b[0;32m    756\u001b[0m             \u001b[0msolution\u001b[0m \u001b[1;33m+=\u001b[0m \u001b[0msolution_cycle\u001b[0m\u001b[1;33m\u001b[0m\u001b[0m\n",
      "\u001b[1;32m~\\Anaconda3\\lib\\site-packages\\HARK\\core.py\u001b[0m in \u001b[0;36msolveOneCycle\u001b[1;34m(agent, solution_last)\u001b[0m\n\u001b[0;32m    857\u001b[0m \u001b[1;33m\u001b[0m\u001b[0m\n\u001b[0;32m    858\u001b[0m         \u001b[1;31m# Solve one period, add it to the solution, and move to the next period\u001b[0m\u001b[1;33m\u001b[0m\u001b[1;33m\u001b[0m\u001b[0m\n\u001b[1;32m--> 859\u001b[1;33m         \u001b[0msolution_t\u001b[0m \u001b[1;33m=\u001b[0m \u001b[0msolveOnePeriod\u001b[0m\u001b[1;33m(\u001b[0m\u001b[1;33m**\u001b[0m\u001b[0mtemp_dict\u001b[0m\u001b[1;33m)\u001b[0m\u001b[1;33m\u001b[0m\u001b[0m\n\u001b[0m\u001b[0;32m    860\u001b[0m         \u001b[0msolution_cycle\u001b[0m\u001b[1;33m.\u001b[0m\u001b[0mappend\u001b[0m\u001b[1;33m(\u001b[0m\u001b[0msolution_t\u001b[0m\u001b[1;33m)\u001b[0m\u001b[1;33m\u001b[0m\u001b[0m\n\u001b[0;32m    861\u001b[0m         \u001b[0msolution_next\u001b[0m \u001b[1;33m=\u001b[0m \u001b[0msolution_t\u001b[0m\u001b[1;33m\u001b[0m\u001b[0m\n",
      "\u001b[1;32m~\\Anaconda3\\lib\\site-packages\\HARK\\ConsumptionSaving\\ConsIndShockModel.py\u001b[0m in \u001b[0;36msolveConsKinkedR\u001b[1;34m(solution_next, IncomeDstn, LivPrb, DiscFac, CRRA, Rboro, Rsave, PermGroFac, BoroCnstArt, aXtraGrid, vFuncBool, CubicBool)\u001b[0m\n\u001b[0;32m   1475\u001b[0m                                             aXtraGrid,vFuncBool,CubicBool)\n\u001b[0;32m   1476\u001b[0m     \u001b[0msolver\u001b[0m\u001b[1;33m.\u001b[0m\u001b[0mprepareToSolve\u001b[0m\u001b[1;33m(\u001b[0m\u001b[1;33m)\u001b[0m\u001b[1;33m\u001b[0m\u001b[0m\n\u001b[1;32m-> 1477\u001b[1;33m     \u001b[0msolution\u001b[0m \u001b[1;33m=\u001b[0m \u001b[0msolver\u001b[0m\u001b[1;33m.\u001b[0m\u001b[0msolve\u001b[0m\u001b[1;33m(\u001b[0m\u001b[1;33m)\u001b[0m\u001b[1;33m\u001b[0m\u001b[0m\n\u001b[0m\u001b[0;32m   1478\u001b[0m \u001b[1;33m\u001b[0m\u001b[0m\n\u001b[0;32m   1479\u001b[0m     \u001b[1;32mreturn\u001b[0m \u001b[0msolution\u001b[0m\u001b[1;33m\u001b[0m\u001b[0m\n",
      "\u001b[1;32m~\\Anaconda3\\lib\\site-packages\\HARK\\ConsumptionSaving\\ConsIndShockModel.py\u001b[0m in \u001b[0;36msolve\u001b[1;34m(self)\u001b[0m\n\u001b[0;32m   1160\u001b[0m         \u001b[1;31m# Construct a basic solution for this period\u001b[0m\u001b[1;33m\u001b[0m\u001b[1;33m\u001b[0m\u001b[0m\n\u001b[0;32m   1161\u001b[0m         \u001b[1;32mif\u001b[0m \u001b[0mself\u001b[0m\u001b[1;33m.\u001b[0m\u001b[0mCubicBool\u001b[0m\u001b[1;33m:\u001b[0m\u001b[1;33m\u001b[0m\u001b[0m\n\u001b[1;32m-> 1162\u001b[1;33m             \u001b[0msolution\u001b[0m   \u001b[1;33m=\u001b[0m \u001b[0mself\u001b[0m\u001b[1;33m.\u001b[0m\u001b[0mmakeBasicSolution\u001b[0m\u001b[1;33m(\u001b[0m\u001b[0mEndOfPrdvP\u001b[0m\u001b[1;33m,\u001b[0m\u001b[0maNrm\u001b[0m\u001b[1;33m,\u001b[0m\u001b[0minterpolator\u001b[0m\u001b[1;33m=\u001b[0m\u001b[0mself\u001b[0m\u001b[1;33m.\u001b[0m\u001b[0mmakeCubiccFunc\u001b[0m\u001b[1;33m)\u001b[0m\u001b[1;33m\u001b[0m\u001b[0m\n\u001b[0m\u001b[0;32m   1163\u001b[0m         \u001b[1;32melse\u001b[0m\u001b[1;33m:\u001b[0m\u001b[1;33m\u001b[0m\u001b[0m\n\u001b[0;32m   1164\u001b[0m             \u001b[0msolution\u001b[0m   \u001b[1;33m=\u001b[0m \u001b[0mself\u001b[0m\u001b[1;33m.\u001b[0m\u001b[0mmakeBasicSolution\u001b[0m\u001b[1;33m(\u001b[0m\u001b[0mEndOfPrdvP\u001b[0m\u001b[1;33m,\u001b[0m\u001b[0maNrm\u001b[0m\u001b[1;33m,\u001b[0m\u001b[0minterpolator\u001b[0m\u001b[1;33m=\u001b[0m\u001b[0mself\u001b[0m\u001b[1;33m.\u001b[0m\u001b[0mmakeLinearcFunc\u001b[0m\u001b[1;33m)\u001b[0m\u001b[1;33m\u001b[0m\u001b[0m\n",
      "\u001b[1;32m~\\Anaconda3\\lib\\site-packages\\HARK\\ConsumptionSaving\\ConsIndShockModel.py\u001b[0m in \u001b[0;36mmakeBasicSolution\u001b[1;34m(self, EndOfPrdvP, aNrm, interpolator)\u001b[0m\n\u001b[0;32m    927\u001b[0m         '''\n\u001b[0;32m    928\u001b[0m         \u001b[0mcNrm\u001b[0m\u001b[1;33m,\u001b[0m\u001b[0mmNrm\u001b[0m    \u001b[1;33m=\u001b[0m \u001b[0mself\u001b[0m\u001b[1;33m.\u001b[0m\u001b[0mgetPointsForInterpolation\u001b[0m\u001b[1;33m(\u001b[0m\u001b[0mEndOfPrdvP\u001b[0m\u001b[1;33m,\u001b[0m\u001b[0maNrm\u001b[0m\u001b[1;33m)\u001b[0m\u001b[1;33m\u001b[0m\u001b[0m\n\u001b[1;32m--> 929\u001b[1;33m         \u001b[0msolution_now\u001b[0m \u001b[1;33m=\u001b[0m \u001b[0mself\u001b[0m\u001b[1;33m.\u001b[0m\u001b[0musePointsForInterpolation\u001b[0m\u001b[1;33m(\u001b[0m\u001b[0mcNrm\u001b[0m\u001b[1;33m,\u001b[0m\u001b[0mmNrm\u001b[0m\u001b[1;33m,\u001b[0m\u001b[0minterpolator\u001b[0m\u001b[1;33m)\u001b[0m\u001b[1;33m\u001b[0m\u001b[0m\n\u001b[0m\u001b[0;32m    930\u001b[0m         \u001b[1;32mreturn\u001b[0m \u001b[0msolution_now\u001b[0m\u001b[1;33m\u001b[0m\u001b[0m\n\u001b[0;32m    931\u001b[0m \u001b[1;33m\u001b[0m\u001b[0m\n",
      "\u001b[1;32m~\\Anaconda3\\lib\\site-packages\\HARK\\ConsumptionSaving\\ConsIndShockModel.py\u001b[0m in \u001b[0;36musePointsForInterpolation\u001b[1;34m(self, cNrm, mNrm, interpolator)\u001b[0m\n\u001b[0;32m    891\u001b[0m         '''\n\u001b[0;32m    892\u001b[0m         \u001b[1;31m# Construct the unconstrained consumption function\u001b[0m\u001b[1;33m\u001b[0m\u001b[1;33m\u001b[0m\u001b[0m\n\u001b[1;32m--> 893\u001b[1;33m         \u001b[0mcFuncNowUnc\u001b[0m \u001b[1;33m=\u001b[0m \u001b[0minterpolator\u001b[0m\u001b[1;33m(\u001b[0m\u001b[0mmNrm\u001b[0m\u001b[1;33m,\u001b[0m\u001b[0mcNrm\u001b[0m\u001b[1;33m)\u001b[0m\u001b[1;33m\u001b[0m\u001b[0m\n\u001b[0m\u001b[0;32m    894\u001b[0m \u001b[1;33m\u001b[0m\u001b[0m\n\u001b[0;32m    895\u001b[0m         \u001b[1;31m# Combine the constrained and unconstrained functions into the true consumption function\u001b[0m\u001b[1;33m\u001b[0m\u001b[1;33m\u001b[0m\u001b[0m\n",
      "\u001b[1;32m~\\Anaconda3\\lib\\site-packages\\HARK\\ConsumptionSaving\\ConsIndShockModel.py\u001b[0m in \u001b[0;36mmakeCubiccFunc\u001b[1;34m(self, mNrm, cNrm)\u001b[0m\n\u001b[0;32m   1341\u001b[0m         \u001b[0mcFuncNowUnc\u001b[0m\u001b[1;33m.\u001b[0m\u001b[0mdydx_list\u001b[0m\u001b[1;33m[\u001b[0m\u001b[0mwhere\u001b[0m\u001b[1;33m]\u001b[0m \u001b[1;33m=\u001b[0m\u001b[1;36m1.\u001b[0m\u001b[1;33m\u001b[0m\u001b[0m\n\u001b[0;32m   1342\u001b[0m         \u001b[1;32mif\u001b[0m \u001b[0mnp\u001b[0m\u001b[1;33m.\u001b[0m\u001b[0mshape\u001b[0m\u001b[1;33m(\u001b[0m\u001b[0mwhere\u001b[0m\u001b[1;33m)\u001b[0m \u001b[1;33m==\u001b[0m \u001b[1;33m(\u001b[0m\u001b[1;36m2\u001b[0m\u001b[1;33m,\u001b[0m\u001b[1;36m1\u001b[0m\u001b[1;33m)\u001b[0m\u001b[1;33m:\u001b[0m\u001b[1;33m\u001b[0m\u001b[0m\n\u001b[1;32m-> 1343\u001b[1;33m             \u001b[0mcFuncNowUnc\u001b[0m\u001b[1;33m.\u001b[0m\u001b[0mcoeffs\u001b[0m\u001b[1;33m[\u001b[0m\u001b[0mwhere\u001b[0m\u001b[1;33m,\u001b[0m\u001b[1;36m0\u001b[0m\u001b[1;33m]\u001b[0m\u001b[1;33m=\u001b[0m\u001b[0mtemp\u001b[0m\u001b[1;33m\u001b[0m\u001b[0m\n\u001b[0m\u001b[0;32m   1344\u001b[0m             \u001b[1;31m#cFuncNowUnc.coeffs[where[0],2:] = 0.\u001b[0m\u001b[1;33m\u001b[0m\u001b[1;33m\u001b[0m\u001b[0m\n\u001b[0;32m   1345\u001b[0m             \u001b[0mcFuncNowUnc\u001b[0m\u001b[1;33m.\u001b[0m\u001b[0mcoeffs\u001b[0m\u001b[1;33m[\u001b[0m\u001b[0mwhere\u001b[0m\u001b[1;33m,\u001b[0m\u001b[1;36m1\u001b[0m\u001b[1;33m]\u001b[0m \u001b[1;33m=\u001b[0m \u001b[1;36m1.\u001b[0m\u001b[1;33m\u001b[0m\u001b[0m\n",
      "\u001b[1;31mValueError\u001b[0m: shape mismatch: value array of shape (2,) could not be broadcast to indexing result of shape (2,1)"
     ]
    }
   ],
   "source": [
    "KinkyExample = KinkedRconsumerType(**Params.init_kinked_R)\n",
    "KinkyExample.cycles = 0 # Make the Example infinite horizon\n",
    "KinkyExample.CubicBool = True\n",
    "\n",
    "KinkyExample.solve()\n",
    "KinkyExample.unpackcFunc()\n",
    "print('Kinky consumption function:')\n",
    "KinkyExample.timeFwd()\n",
    "plotFuncs(KinkyExample.cFunc[0],0.8,1.)"
   ]
  },
  {
   "cell_type": "code",
   "execution_count": null,
   "metadata": {},
   "outputs": [],
   "source": [
    "income = np.linspace(0, 3, 1000)\n",
    "plt.plot(income, KinkyExample.cFunc[0](income))\n",
    "plt.plot(income, income)\n",
    "plt.xlim(0.8, 1)\n",
    "plt.ylim(0.86, 1)\n",
    "plt.show()"
   ]
  },
  {
   "cell_type": "code",
   "execution_count": null,
   "metadata": {},
   "outputs": [],
   "source": [
    "MPC = np.array([1,3,8,3,4])\n",
    "where = np.argwhere(MPC==3)\n",
    "#where = np.reshape(where, (len(where),))\n",
    "#mask = MPC==3\n",
    "mask = np.array([False, True, True, True])\n",
    "#MPC = np.insert(MPC, where+1, 1.)\n",
    "#MPC\n",
    "np.place(MPC[1:], mask, 1.)\n",
    "MPC"
   ]
  },
  {
   "cell_type": "code",
   "execution_count": null,
   "metadata": {},
   "outputs": [],
   "source": [
    "plotFuncs(KinkyExample.cFunc[0],0,5.)"
   ]
  },
  {
   "cell_type": "code",
   "execution_count": null,
   "metadata": {},
   "outputs": [],
   "source": []
  }
 ],
 "metadata": {
  "kernelspec": {
   "display_name": "Python 3",
   "language": "python",
   "name": "python3"
  },
  "language_info": {
   "codemirror_mode": {
    "name": "ipython",
    "version": 3
   },
   "file_extension": ".py",
   "mimetype": "text/x-python",
   "name": "python",
   "nbconvert_exporter": "python",
   "pygments_lexer": "ipython3",
   "version": "3.6.5"
  }
 },
 "nbformat": 4,
 "nbformat_minor": 2
}
