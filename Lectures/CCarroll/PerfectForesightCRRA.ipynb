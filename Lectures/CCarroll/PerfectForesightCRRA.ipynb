{
 "cells": [
  {
   "cell_type": "markdown",
   "metadata": {},
   "source": [
    "# Plots to explore the Perfect Foresight Model"
   ]
  },
  {
   "cell_type": "code",
   "execution_count": null,
   "metadata": {
    "code_folding": [
     0
    ]
   },
   "outputs": [],
   "source": [
    "# Initial notebook set up\n",
    "\n",
    "%matplotlib inline\n",
    "import matplotlib.pyplot as plt\n",
    "\n",
    "# The first step is to be able to bring things in from different directories\n",
    "import sys \n",
    "import os\n",
    "\n",
    "sys.path.insert(0, os.path.abspath('../lib'))\n",
    "\n",
    "import numpy as np\n",
    "import HARK \n",
    "from time import clock\n",
    "from copy import deepcopy\n",
    "mystr = lambda number : \"{:.4f}\".format(number)\n",
    "from HARK.utilities import plotFuncs\n",
    "\n",
    "# These last two will make our charts look nice\n",
    "plt.style.use('seaborn-darkgrid')\n",
    "palette = plt.get_cmap('Dark2')"
   ]
  },
  {
   "cell_type": "markdown",
   "metadata": {},
   "source": [
    "Using the Jupyter notebook [Gentle-Intro-To-HARK-PerfForesightCRRA](https://github.com/econ-ark/DemARK/blob/Course-Choice/notebooks/Gentle-Intro-To-HARK-PerfForesightCRRA.ipynb) to learn the basics of HARK operations, and the code contained in this notebook, answer the following questions:"
   ]
  },
  {
   "cell_type": "markdown",
   "metadata": {},
   "source": [
    "## Q1. \n",
    "[PerfecctForesightCRRA](http://www.econ2.jhu.edu/people/ccarroll/public/lecturenotes/Consumption/PerfForesightCRRA.pdf) derives a number of results as approximations; for instance, the exact formula for the consumption function is derived as $$c_t = (\\frac{R - (R\\beta)^{1/\\rho}}{R})o_t$$\n",
    "and approximated by $$c_t \\approx (r-\\rho^{-1}(r-\\theta))o_t$$\n",
    "and the saving rate is approximated in the last section.\n",
    "\n",
    "For plausible values of the model parameters that satisfy the relevant impatience and human wealth conditions, make some plots examining the quality of those approximations. In particular, explore the relationship between the impatience conditions and the accuracy of the approximations."
   ]
  },
  {
   "cell_type": "code",
   "execution_count": null,
   "metadata": {},
   "outputs": [],
   "source": [
    "# Set up a HARK Perfect Foresight Consumer called PFagent\n",
    "\n",
    "from HARK.ConsumptionSaving.ConsIndShockModel import PerfForesightConsumerType # Import the consumer type\n",
    "\n",
    "# Now we need to \"fill\" our consumer with parameters that allow us to solve the consumer's problem\n",
    "\n",
    "# First we need to set out a dictionary\n",
    "    # Note, we could also import the default dictionary by doing: import HARK.ConsumptionSaving.ConsumerParameters as Params\n",
    "    # Then we could use Params.init_perfect_foresight as our dictionary\n",
    "    # But so we can see what we are doing, we will write out the dictionary in full here\n",
    "CRRA = 3.1                          # Coefficient of relative risk aversion\n",
    "Rfree = 1.03                        # Interest factor on assets\n",
    "DiscFac = 0.95                      # Intertemporal discount factor\n",
    "LivPrb = [1.0]                     # Survival probability\n",
    "PermGroFac = [1.01]                 # Permanent income growth factor\n",
    "AgentCount = 1                      # Number of agents of this type (only matters for simulation)\n",
    "aNrmInitMean = 0.0                  # Mean of log initial assets (only matters for simulation)\n",
    "aNrmInitStd  = 1.0                  # Standard deviation of log initial assets (only for simulation)\n",
    "pLvlInitMean = 0.0                  # Mean of log initial permanent income (only matters for simulation)\n",
    "pLvlInitStd  = 0.0                  # Standard deviation of log initial permanent income (only matters for simulation)\n",
    "PermGroFacAgg = 1.0                 # Aggregate permanent income growth factor (only matters for simulation)\n",
    "T_age = None                        # Age after which simulated agents are automatically killed\n",
    "T_cycle = 1                         # Number of periods in the cycle for this agent type\n",
    "cycles = 0                          # Agent is infinitely lived\n",
    "\n",
    "# Make a dictionary to specify a perfect foresight consumer type\n",
    "dict_perfect_foresight = { 'CRRA': CRRA,\n",
    "                           'Rfree': Rfree,\n",
    "                           'DiscFac': DiscFac,\n",
    "                           'LivPrb': LivPrb,\n",
    "                           'PermGroFac': PermGroFac,\n",
    "                           'AgentCount': AgentCount,\n",
    "                           'aNrmInitMean' : aNrmInitMean,\n",
    "                           'aNrmInitStd' : aNrmInitStd,\n",
    "                           'pLvlInitMean' : pLvlInitMean,\n",
    "                           'pLvlInitStd' : pLvlInitStd,\n",
    "                           'PermGroFacAgg' : PermGroFacAgg,\n",
    "                           'T_age' : T_age,\n",
    "                           'T_cycle' : T_cycle,\n",
    "                           'cycles' : cycles\n",
    "                          }\n",
    "\n",
    "# Now lets pass our dictionary to our consumer class\n",
    "PFagent = PerfForesightConsumerType(**dict_perfect_foresight)"
   ]
  },
  {
   "cell_type": "markdown",
   "metadata": {},
   "source": [
    "Now we have created an agent. We can use HARK to solve the agent's problem, give us the approximated consumption function, and then compare it to the \"true\" consumption function given by the first formula."
   ]
  },
  {
   "cell_type": "code",
   "execution_count": null,
   "metadata": {},
   "outputs": [],
   "source": [
    "# Solve the agent's problem\n",
    "PFagent.solve()"
   ]
  },
  {
   "cell_type": "code",
   "execution_count": null,
   "metadata": {},
   "outputs": [],
   "source": [
    "# Plot the consumption function approximation versus the \"true\" consumption function\n",
    "\n",
    "# Remember, after doing .solve(), the consumption function is stored as PFagent.solution[0].cFunc\n",
    "\n",
    "# Set out some range of market resources that we want to plot consumption for\n",
    "    # Note that .cFunc takes in the normalised total market resources, i.e. divided by permanent income, so we can ignore the p terms\n",
    "m_range = np.linspace(0, 10, 100) # This says create an array with 100 evenly spaced numbers from 0 to 10\n",
    "\n",
    "# Feed our range of market resources into our consumption function in order to get consumption at each point\n",
    "cHARK = PFagent.solution[0].cFunc(m_range)\n",
    "\n",
    "# Use matplotlib package (imported in first cell) to plot the consumption function\n",
    "plt.figure(figsize=(9,6)) #set the figure size\n",
    "plt.plot(m_range, cHARK, 'b', label='Consumption Function from HARK') # Plot m's on the x axis, versus our consumption on the y axis, and make the line blue, with a label\n",
    "plt.xlabel('Market resources') # x axis label\n",
    "plt.ylabel('Consumption') # y axis label\n",
    "\n",
    "# Add the \"true\" consumption function\n",
    "    # Note we need to use our values of R, Beta, and rho that we used in our agent type\n",
    "    # We get these by doing PFagent.Rfree for R, and so on and so forth\n",
    "    # Also, note that the \"true\" consumption function takes in total wealth, not just market resources, so we need to add in human wealth (we can ignore the p_t term as noted before)\n",
    "\n",
    "humanWealth = PFagent.solution[0].hNrm\n",
    "cTrue = (m_range+humanWealth)*(PFagent.Rfree - (PFagent.Rfree*PFagent.DiscFac)**(1/PFagent.CRRA))/(PFagent.Rfree) # find consumption\n",
    "plt.plot(m_range, cTrue, 'k', label='True consumption function') # Add true consumption function line\n",
    "plt.legend() # show the legend\n",
    "\n",
    "plt.show() # plot the chart"
   ]
  },
  {
   "cell_type": "markdown",
   "metadata": {},
   "source": [
    "These lines look pretty close, we can also try plotting the deviations:"
   ]
  },
  {
   "cell_type": "code",
   "execution_count": null,
   "metadata": {},
   "outputs": [],
   "source": [
    "# Plot the deviations\n",
    "deviation = cHARK - cTrue\n",
    "plt.figure(figsize=(9,6)) #set the figure size\n",
    "plt.plot(m_range, deviation, label='cHARK - cTrue')\n",
    "plt.xlabel('Market resources') # x axis label\n",
    "plt.ylabel('Deviation from true consumption level') # y axis label\n",
    "plt.legend()\n",
    "plt.show()"
   ]
  },
  {
   "cell_type": "markdown",
   "metadata": {},
   "source": [
    "If we check the y-axis we see that these deviations are very small: 10^(-11)."
   ]
  },
  {
   "cell_type": "code",
   "execution_count": null,
   "metadata": {},
   "outputs": [],
   "source": [
    "# ------ Until end of question to be taken out of notebook for students? --------- #"
   ]
  },
  {
   "cell_type": "markdown",
   "metadata": {},
   "source": [
    "We know that the return patience factor is likely to be greater than 1 if Beta is high.\n",
    "\n",
    "We proceed as follows:\n",
    "1. Create array's of Beta values, such that the return patience factor is increasing as you descend through the arrays\n",
    "2. Set up a for loop in which we will:\n",
    "    a. Input the new value of Beta\n",
    "    b. Solve the HARK model for the consumption function\n",
    "    c. Calculate the true consumption function\n",
    "    d. Save the average deviation between the two functions\n",
    "3. Then we can plot average deviation against the return patience factor"
   ]
  },
  {
   "cell_type": "code",
   "execution_count": null,
   "metadata": {},
   "outputs": [],
   "source": [
    "# Create array of Betas, and calculate the patience factor\n",
    "beta_array = np.linspace(0.96, 1., 30)\n",
    "\n",
    "ReturnPatFac = ((1.02*beta_array)**(1/1.5))/1.02"
   ]
  },
  {
   "cell_type": "code",
   "execution_count": null,
   "metadata": {},
   "outputs": [],
   "source": [
    "# Plot average deviation from true consumption function\n",
    "PFagent = PerfForesightConsumerType(**dict_perfect_foresight) # initiate a consumer with our previous parameters\n",
    "PFagent.Rfree = 1.02\n",
    "PFagent.CRRA = 1.5\n",
    "m_range = np.linspace(0, 10, 100)\n",
    "plt.figure(figsize=(9,6)) #set the figure size\n",
    "mean_dev = np.zeros(30)\n",
    "\n",
    "for i in range(len(beta_array)):\n",
    "    PFagent.DiscFac = beta_array[i]\n",
    "    \n",
    "    # Now we just copy the lines of code from above that we want\n",
    "    PFagent.solve()\n",
    "    cHARK = PFagent.solution[0].cFunc(m_range)\n",
    "    humanWealth = PFagent.solution[0].hNrm\n",
    "    cTrue = (m_range+humanWealth)*(PFagent.Rfree - (PFagent.Rfree*PFagent.DiscFac)**(1/PFagent.CRRA))/(PFagent.Rfree)\n",
    "    deviation = np.mean(np.abs(cHARK - cTrue))\n",
    "    mean_dev[i] = deviation\n",
    "    \n",
    "plt.plot(ReturnPatFac, mean_dev)    \n",
    "plt.xlabel('Return Patience Factor') # x axis label\n",
    "plt.ylabel(' Average deviation along consumption function') # y axis label\n",
    "plt.show()"
   ]
  },
  {
   "cell_type": "markdown",
   "metadata": {},
   "source": [
    "Looks like the approximation is pretty good until  the return patience factor gets close to 1."
   ]
  },
  {
   "cell_type": "markdown",
   "metadata": {},
   "source": [
    "## Q2.\n",
    "Make some plots that illustrate the points made in sections 4.1 and 4.2 of [PerfForesightCRRA](http://www.econ2.jhu.edu/people/ccarroll/public/lecturenotes/Consumption/PerfForesightCRRA.pdf) about the size of the human wealth effect and the relationship between interest rates and the saving rate."
   ]
  },
  {
   "cell_type": "markdown",
   "metadata": {},
   "source": [
    "Firstly, we want to show that for plausible parameter values, the human wealth effect of a fall in interest rate outweighs the income and substition effects, so consumption rises strongly."
   ]
  },
  {
   "cell_type": "code",
   "execution_count": null,
   "metadata": {},
   "outputs": [],
   "source": [
    "# Set up a HARK Perfect Foresight Consumer called PFwealth\n",
    "\n",
    "from HARK.ConsumptionSaving.ConsIndShockModel import PerfForesightConsumerType # Import the consumer type\n",
    "\n",
    "# Now we need to \"fill\" our consumer with parameters that allow us to solve the consumer's problem\n",
    "\n",
    "# First we need to set out a dictionary\n",
    "CRRA = 2.                           # Coefficient of relative risk aversion\n",
    "Rfree = 1.03                        # Interest factor on assets\n",
    "DiscFac = 0.97                      # Intertemporal discount factor\n",
    "LivPrb = [1.0]                      # Survival probability\n",
    "PermGroFac = [1.01]                 # Permanent income growth factor\n",
    "AgentCount = 1                      # Number of agents of this type (only matters for simulation)\n",
    "aNrmInitMean = 0.0                  # Mean of log initial assets (only matters for simulation)\n",
    "aNrmInitStd  = 1.0                  # Standard deviation of log initial assets (only for simulation)\n",
    "pLvlInitMean = 0.0                  # Mean of log initial permanent income (only matters for simulation)\n",
    "pLvlInitStd  = 0.0                  # Standard deviation of log initial permanent income (only matters for simulation)\n",
    "PermGroFacAgg = 1.0                 # Aggregate permanent income growth factor (only matters for simulation)\n",
    "T_age = None                        # Age after which simulated agents are automatically killed\n",
    "T_cycle = 1                         # Number of periods in the cycle for this agent type\n",
    "cycles = 0                          # Agent is infinitely lived\n",
    "\n",
    "# Make a dictionary to specify a perfect foresight consumer type\n",
    "dict_wealth = { 'CRRA': CRRA,\n",
    "                'Rfree': Rfree,\n",
    "                'DiscFac': DiscFac,\n",
    "                'LivPrb': LivPrb,\n",
    "                'PermGroFac': PermGroFac,\n",
    "                'AgentCount': AgentCount,\n",
    "                'aNrmInitMean' : aNrmInitMean,\n",
    "                'aNrmInitStd' : aNrmInitStd,\n",
    "                'pLvlInitMean' : pLvlInitMean,\n",
    "                'pLvlInitStd' : pLvlInitStd,\n",
    "                'PermGroFacAgg' : PermGroFacAgg,\n",
    "                'T_age' : T_age,\n",
    "                'T_cycle' : T_cycle,\n",
    "                'cycles' : cycles\n",
    "                }\n",
    "\n",
    "# Now lets pass our dictionary to our consumer class\n",
    "PFwealth = PerfForesightConsumerType(**dict_wealth)"
   ]
  },
  {
   "cell_type": "code",
   "execution_count": null,
   "metadata": {},
   "outputs": [],
   "source": [
    "# ------ Until end of question to be taken out of notebook for students? --------- #"
   ]
  },
  {
   "cell_type": "code",
   "execution_count": null,
   "metadata": {},
   "outputs": [],
   "source": [
    "# Plot consumption functions at different level of R\n",
    "m_range = np.linspace(1., 10, 100)\n",
    "plt.figure(figsize=(18,6))\n",
    "\n",
    "# Find consumption function at low R\n",
    "PFwealth.Rfree = 1.03 # Set low R\n",
    "PFwealth.solve() # solve model\n",
    "plt.subplot(1,2,1)\n",
    "plt.plot(m_range, PFwealth.solution[0].cFunc(m_range), label='Low R Consumption Function') # plot low R cFunc\n",
    "plt.subplot(1,2,2)\n",
    "plt.plot(m_range, (m_range - PFwealth.solution[0].cFunc(m_range))/m_range, label = 'Low R Savings rate') # plot low R savings rate\n",
    "\n",
    "# Find consumption function at high R\n",
    "PFwealth.Rfree = 1.06 # Set high R\n",
    "PFwealth.solve() # solve model\n",
    "plt.subplot(1,2,1)\n",
    "plt.plot(m_range, PFwealth.solution[0].cFunc(m_range), label='High R Consumption Function') # plot high R cFunc\n",
    "plt.xlabel('Market resources')\n",
    "plt.ylabel('Consumption')\n",
    "plt.legend()\n",
    "plt.subplot(1,2,2)\n",
    "plt.plot(m_range, (m_range - PFwealth.solution[0].cFunc(m_range))/m_range, label = 'High R Savings rate') # plot high R savings rate\n",
    "plt.xlabel('Market resources')\n",
    "plt.ylabel('Savings rate')\n",
    "plt.legend()\n",
    "plt.show()\n"
   ]
  },
  {
   "cell_type": "markdown",
   "metadata": {},
   "source": [
    "We can see that consumption is higher for all market resources when R is low, owing to the human wealth effect. And that the savings rate is very sensitive to changes in R (look at when m=1, the savings rate goes from -0.1 to- 0.5 when R moves from 1.06 to 1.03."
   ]
  }
 ],
 "metadata": {
  "kernelspec": {
   "display_name": "Python 3",
   "language": "python",
   "name": "python3"
  },
  "language_info": {
   "codemirror_mode": {
    "name": "ipython",
    "version": 3
   },
   "file_extension": ".py",
   "mimetype": "text/x-python",
   "name": "python",
   "nbconvert_exporter": "python",
   "pygments_lexer": "ipython3",
   "version": "3.6.5"
  }
 },
 "nbformat": 4,
 "nbformat_minor": 2
}
