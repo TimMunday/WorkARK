{
 "cells": [
  {
   "cell_type": "markdown",
   "metadata": {},
   "source": [
    "# The Envelope Theorem"
   ]
  },
  {
   "cell_type": "code",
   "execution_count": null,
   "metadata": {
    "code_folding": [
     0
    ]
   },
   "outputs": [],
   "source": [
    "# Some initial setup\n",
    "\n",
    "import sys \n",
    "import os\n",
    "sys.path.insert(0, os.path.abspath('../lib'))\n",
    "\n",
    "\n",
    "from matplotlib import pyplot as plt\n",
    "import numpy as np\n",
    "plt.style.use('seaborn-darkgrid')\n",
    "palette = plt.get_cmap('Dark2')\n",
    "from copy  import deepcopy\n",
    "\n",
    "from ipywidgets import interact, interactive, fixed, interact_manual\n",
    "import ipywidgets as widgets"
   ]
  },
  {
   "cell_type": "markdown",
   "metadata": {},
   "source": [
    "As is explained in Chris Carroll's [notes](http://www.econ2.jhu.edu/people/ccarroll/public/LectureNotes/Consumption/Envelope.pdf), the envelope theorem implies that the total deriviative of a value function with respect to  a choice variable must be zero for optimizing consumers because the first order condition holds.\n",
    "\n",
    "To illustrate this point, lets plot a value function, find the optimal point on it, and see what the derivative with respect to c is."
   ]
  },
  {
   "cell_type": "code",
   "execution_count": null,
   "metadata": {
    "code_folding": [
     0
    ]
   },
   "outputs": [],
   "source": [
    "# Define some useful functions\n",
    "\n",
    "# Define the utility function\n",
    "def u(c, rho):\n",
    "    u = (c**(1-rho))/(1-rho)\n",
    "    return u\n",
    "\n",
    "# Define the value function\n",
    "def vFunc(m1, c1, rho, beta, R):\n",
    "    c2 = R*(m1-c1)\n",
    "    v = u(c1, rho) + beta*u(c2, rho)\n",
    "    return v"
   ]
  },
  {
   "cell_type": "code",
   "execution_count": null,
   "metadata": {
    "code_folding": [
     0
    ]
   },
   "outputs": [],
   "source": [
    "# Define some range of initial assets m1 that we want to plot over\n",
    "\n",
    "m1_range = np.linspace(4, 6, 6)"
   ]
  },
  {
   "cell_type": "code",
   "execution_count": null,
   "metadata": {
    "code_folding": [
     0
    ]
   },
   "outputs": [],
   "source": [
    "# Make the plot\n",
    "\n",
    "plt.figure(figsize=(8,8))\n",
    "plt.xlabel('$C_1$')\n",
    "plt.ylabel('$V(M_1, C_1)$')\n",
    "\n",
    "\n",
    "# Note that because of the set up of this model (R=1, beta=1, no assets in period two, CCRA utility\n",
    "# the optimal choice is to consume half of m1 today and half tomorrow. So plotting the optimal point\n",
    "# on the value function is easy, and doesn't require a computational optimisation procedure.\n",
    "\n",
    "for m1 in m1_range:\n",
    "    c1_range = np.linspace(0.5, m1-0.5, 200)\n",
    "    plt.plot(c1_range, vFunc(m1, c1_range, 2., 1.0, 1.0)) # plot the value function\n",
    "    plt.plot(m1/2, vFunc(m1, m1/2, 2., 1., 1.), 'ro') # plot the optimal point\n",
    "\n",
    "plt.show()"
   ]
  },
  {
   "cell_type": "code",
   "execution_count": null,
   "metadata": {
    "code_folding": [
     0
    ]
   },
   "outputs": [],
   "source": [
    "# Looks like the derivative at the optimal points is zero - the envelope theorem holds!\n",
    "\n",
    "# We can just check this quickly if we want quickly numerical differentiation\n",
    "\n",
    "# Define a function that calcuates vFunc at the optimal c, and then vFunc c+epsilon, and divides by epsilon\n",
    "# At the limit, as epsilon tends to zero, this will give the derivative of vFunc at the optimal c\n",
    "def vFunc_der(m1, rho,  beta, R, epsilon=1e-5):\n",
    "    der = (vFunc(m1, m1/2, rho, beta, R) - vFunc(m1, m1/2 + epsilon, rho, beta, R))/epsilon\n",
    "    return der\n",
    "\n",
    "\n",
    "# Try it for the first m1\n",
    "derivative = vFunc_der(m1_range[0], 2.,1.,1.)\n",
    "print(derivative)\n",
    "\n",
    "# Looks pretty close to zero so we are happy"
   ]
  }
 ],
 "metadata": {
  "kernelspec": {
   "display_name": "Python 3",
   "language": "python",
   "name": "python3"
  },
  "language_info": {
   "codemirror_mode": {
    "name": "ipython",
    "version": 3
   },
   "file_extension": ".py",
   "mimetype": "text/x-python",
   "name": "python",
   "nbconvert_exporter": "python",
   "pygments_lexer": "ipython3",
   "version": "3.6.5"
  }
 },
 "nbformat": 4,
 "nbformat_minor": 2
}
