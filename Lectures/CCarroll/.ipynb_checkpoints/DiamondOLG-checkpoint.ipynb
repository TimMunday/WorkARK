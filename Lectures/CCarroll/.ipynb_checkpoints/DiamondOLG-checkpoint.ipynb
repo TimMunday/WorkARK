{
 "cells": [
  {
   "cell_type": "code",
   "execution_count": 1,
   "metadata": {},
   "outputs": [
    {
     "data": {
      "text/html": [
       "<script>\n",
       "code_show=true; \n",
       "function code_toggle() {\n",
       " if (code_show){\n",
       " $('div.input').hide();\n",
       " } else {\n",
       " $('div.input').show();\n",
       " }\n",
       " code_show = !code_show\n",
       "} \n",
       "$( document ).ready(code_toggle);\n",
       "</script>\n",
       "<form action=\"javascript:code_toggle()\"><input type=\"submit\" value=\"Click here to toggle on/off the raw code.\"></form>"
      ],
      "text/plain": [
       "<IPython.core.display.HTML object>"
      ]
     },
     "execution_count": 1,
     "metadata": {},
     "output_type": "execute_result"
    }
   ],
   "source": [
    "from IPython.display import HTML\n",
    "\n",
    "HTML('''<script>\n",
    "code_show=true; \n",
    "function code_toggle() {\n",
    " if (code_show){\n",
    " $('div.input').hide();\n",
    " } else {\n",
    " $('div.input').show();\n",
    " }\n",
    " code_show = !code_show\n",
    "} \n",
    "$( document ).ready(code_toggle);\n",
    "</script>\n",
    "<form action=\"javascript:code_toggle()\"><input type=\"submit\" value=\"Click here to toggle on/off the raw code.\"></form>''')"
   ]
  },
  {
   "cell_type": "markdown",
   "metadata": {},
   "source": [
    "# The Diamond OLG Model"
   ]
  },
  {
   "cell_type": "markdown",
   "metadata": {},
   "source": [
    "### Convergence of OLG Economy to Steady State"
   ]
  },
  {
   "cell_type": "code",
   "execution_count": 2,
   "metadata": {},
   "outputs": [],
   "source": [
    "# Some initial setup\n",
    "\n",
    "import sys \n",
    "import os\n",
    "sys.path.insert(0, os.path.abspath('../lib'))\n",
    "\n",
    "\n",
    "from matplotlib import pyplot as plt\n",
    "import numpy as np\n",
    "plt.style.use('seaborn-darkgrid')\n",
    "palette = plt.get_cmap('Dark2')\n",
    "from copy  import deepcopy\n",
    "\n",
    "from ipywidgets import interact, interactive, fixed, interact_manual\n",
    "import ipywidgets as widgets"
   ]
  },
  {
   "cell_type": "code",
   "execution_count": 3,
   "metadata": {},
   "outputs": [],
   "source": [
    "# Define a function that plots something given some inputs\n",
    "\n",
    "def plot1(Epsilon, DiscFac, PopGrowth, YearsPerGeneration, kMax, Initialk):\n",
    "    '''Inputs:\n",
    "        Epsilon: Elasticity of output with respect to capital/labour ratio\n",
    "        DiscFac: One period discount factor\n",
    "        YearPerGeneration: No. of years per generation\n",
    "        PopGrowth: Gross growth rate of population in one period'''\n",
    "    \n",
    "    # Define some parameters\n",
    "    Beta = DiscFac**YearsPerGeneration\n",
    "    xi = PopGrowth**YearsPerGeneration\n",
    "    Q = (1-Epsilon)*(Beta/(1+Beta))/xi\n",
    "    kBar = Q**(1/(1-Epsilon))\n",
    "    \n",
    "    # Plot the OLG capital accumulation curve and 45 deg line\n",
    "    plt.figure(figsize=(9,6))\n",
    "    kt_range = np.linspace(0, kMax, 1000)\n",
    "    \n",
    "    ktp1 = Q*kt_range**Epsilon\n",
    "    plt.plot(kt_range, ktp1, 'b-', label='Capital accumulation curve')\n",
    "    plt.plot(kt_range, kt_range, 'k-', label='45 Degree line')\n",
    "    \n",
    "    # Plot the path\n",
    "    kt_ar = Initialk\n",
    "    ktp1_ar = 0.\n",
    "    for i in range(3):\n",
    "        plt.arrow(kt_ar, ktp1_ar, 0., Q*kt_ar**Epsilon-ktp1_ar,\n",
    "                  length_includes_head=True,\n",
    "                  lw=0.01,\n",
    "                  width=0.0005,\n",
    "                  color='black',\n",
    "                  edgecolor=None)\n",
    "        plt.arrow(kt_ar, Q*kt_ar**Epsilon, Q*kt_ar**Epsilon-kt_ar , 0.,\n",
    "                  length_includes_head=True,\n",
    "                  lw=0.01,\n",
    "                  width=0.0005,\n",
    "                  color='black',\n",
    "                  edgecolor=None)\n",
    "        kt_ar = Q*kt_ar**Epsilon\n",
    "        ktp1_ar = kt_ar\n",
    "        i = i+1  \n",
    "    \n",
    "    # Plot kbar and initial k\n",
    "    plt.plot(kBar, kBar, 'ro', label='kBar')\n",
    "    plt.plot(Initialk, 0.0005, 'co', label = 'Initialk')\n",
    "    \n",
    "    plt.legend()\n",
    "    plt.xlim(0 ,kMax)\n",
    "    plt.ylim(0, kMax)\n",
    "    plt.xlabel('$k_t$')\n",
    "    plt.ylabel('$k_{t+1}$')\n",
    "    plt.show()\n",
    "\n",
    "    return None"
   ]
  },
  {
   "cell_type": "code",
   "execution_count": 4,
   "metadata": {},
   "outputs": [],
   "source": [
    "# Define some widgets to control the plot\n",
    "\n",
    "# Define a slider for Epsilon\n",
    "Epsilon_widget1 = widgets.FloatSlider(\n",
    "    min=0.1,\n",
    "    max=.6,\n",
    "    step=0.001,\n",
    "    value=0.33,\n",
    "    continuous_update=True,\n",
    "    readout_format='.3f',\n",
    "    description='$\\epsilon$')\n",
    "\n",
    "# Define a slider for the discount factor\n",
    "DiscFac_widget1 = widgets.FloatSlider(\n",
    "    min=.9,\n",
    "    max=1.,\n",
    "    step=0.0001,\n",
    "    value=0.96,\n",
    "    continuous_update=True,\n",
    "    readout_format='.3f',\n",
    "    description='$Disc. Fac$')\n",
    "\n",
    "# Define a slider for pop. growth\n",
    "PopGrowth_widget1 = widgets.FloatSlider(\n",
    "    min=0.98,\n",
    "    max=1.05,\n",
    "    step=0.001,\n",
    "    value=1.01,\n",
    "    continuous_update=True,\n",
    "    readout_format='.3f',\n",
    "    description='$Pop. growth$')\n",
    "\n",
    "# Define a slider for years per generation\n",
    "YearsPerGeneration_widget1 = widgets.FloatSlider(\n",
    "    min=20.,\n",
    "    max=50,\n",
    "    step=1,\n",
    "    value=30,\n",
    "    continuous_update=True,\n",
    "    readout_format='.0f',\n",
    "    description='$YrsPerGen$')\n",
    "\n",
    "# Define a slider for initial k\n",
    "Initialk_widget1 = widgets.FloatSlider(\n",
    "    min=0.0000001,\n",
    "    max=0.07,\n",
    "    step=0.0001,\n",
    "    value=.01,\n",
    "    continuous_update=True,\n",
    "    readout_format='.3f',\n",
    "    description='$Initial k$')\n",
    "\n",
    "# Define a textbox for k max\n",
    "kMax_widget1 = widgets.FloatText(\n",
    "    value=0.07,\n",
    "    step=0.01,\n",
    "    description='$kMax$',\n",
    "    disabled=False)"
   ]
  },
  {
   "cell_type": "code",
   "execution_count": 5,
   "metadata": {},
   "outputs": [
    {
     "data": {
      "application/vnd.jupyter.widget-view+json": {
       "model_id": "7655f2866dbb4841b9ee0b8087d7f96a",
       "version_major": 2,
       "version_minor": 0
      },
      "text/plain": [
       "interactive(children=(FloatSlider(value=0.33, description='$\\\\epsilon$', max=0.6, min=0.1, readout_format='.3f…"
      ]
     },
     "metadata": {},
     "output_type": "display_data"
    }
   ],
   "source": [
    "# Make the widget\n",
    "\n",
    "interact(plot1,\n",
    "         Epsilon = Epsilon_widget1,\n",
    "         DiscFac = DiscFac_widget1,\n",
    "         PopGrowth = PopGrowth_widget1,\n",
    "         YearsPerGeneration = YearsPerGeneration_widget1,\n",
    "         Initialk = Initialk_widget1,\n",
    "         kMax = kMax_widget1,\n",
    "        );"
   ]
  },
  {
   "cell_type": "markdown",
   "metadata": {},
   "source": [
    "### Gross and Net Per Capita Output as a Function of k"
   ]
  },
  {
   "cell_type": "code",
   "execution_count": 6,
   "metadata": {},
   "outputs": [],
   "source": [
    "# Define a function that plots something given some inputs\n",
    "\n",
    "def plot2(Epsilon, PopGrowth, YearsPerGeneration, kMax):\n",
    "    '''Inputs:\n",
    "        Epsilon: Elasticity of output with respect to capital/labour ratio\n",
    "        DiscFac: One period discount factor\n",
    "        YearPerGeneration: No. of years per generation\n",
    "        PopGrowth: Gross growth rate of population in one period'''\n",
    "    \n",
    "    # Define some parameters\n",
    "    xi = PopGrowth**YearsPerGeneration\n",
    "    Xi = xi - 1\n",
    "    kBarForcZero = Xi**(1/(Epsilon-1))\n",
    "    \n",
    "    # Plot the production function and depreciation/dilution curves\n",
    "    kt_range = np.linspace(0, kBarForcZero, 100)\n",
    "    plt.figure(figsize=(18, 6))\n",
    "    plt.subplot(1,2,1)\n",
    "    plt.plot(kt_range, kt_range**Epsilon, 'b-', label = '$f(k)$')\n",
    "    plt.plot(kt_range, Xi*kt_range, 'k-', label = '$Xi * k$')\n",
    "    plt.legend()\n",
    "    plt.xlim(0, kMax)\n",
    "    plt.ylim(0, kMax*Xi)\n",
    "    plt.xlabel('$k_t$')\n",
    "    \n",
    "    plt.subplot(1,2,2)\n",
    "    plt.plot(kt_range, kt_range**Epsilon - Xi*kt_range, 'k-', label ='$f(k) - Xi * k$')\n",
    "    plt.legend()\n",
    "    plt.xlim(0, kMax)\n",
    "    plt.ylim(0, kMax*Xi)\n",
    "    plt.xlabel('$k_t$')\n",
    "    \n",
    "    plt.show()\n",
    "\n",
    "    return None"
   ]
  },
  {
   "cell_type": "code",
   "execution_count": 7,
   "metadata": {},
   "outputs": [],
   "source": [
    "# Define some widgets to control the plot\n",
    "\n",
    "# Define a slider for Epsilon\n",
    "Epsilon_widget2 = widgets.FloatSlider(\n",
    "    min=0.1,\n",
    "    max=.6,\n",
    "    step=0.001,\n",
    "    value=0.33,\n",
    "    continuous_update=True,\n",
    "    readout_format='.3f',\n",
    "    description='$\\epsilon$')\n",
    "\n",
    "# Define a slider for pop. growth\n",
    "PopGrowth_widget2 = widgets.FloatSlider(\n",
    "    min=1.0001,\n",
    "    max=1.05,\n",
    "    step=0.001,\n",
    "    value=1.01,\n",
    "    continuous_update=True,\n",
    "    readout_format='.3f',\n",
    "    description='$Pop. growth$')\n",
    "\n",
    "# Define a slider for years per generation\n",
    "YearsPerGeneration_widget2 = widgets.FloatSlider(\n",
    "    min=20.,\n",
    "    max=50,\n",
    "    step=1,\n",
    "    value=30,\n",
    "    continuous_update=True,\n",
    "    readout_format='.0f',\n",
    "    description='$YrsPerGen$')\n",
    "\n",
    "# Define a textbox for k max\n",
    "kMax_widget2 = widgets.FloatText(\n",
    "    value=6,\n",
    "    step=0.1,\n",
    "    description='$kMax$',\n",
    "    disabled=False)"
   ]
  },
  {
   "cell_type": "code",
   "execution_count": 8,
   "metadata": {},
   "outputs": [
    {
     "data": {
      "application/vnd.jupyter.widget-view+json": {
       "model_id": "e502ecd401ca4d4ca24d89376defb220",
       "version_major": 2,
       "version_minor": 0
      },
      "text/plain": [
       "interactive(children=(FloatSlider(value=0.33, description='$\\\\epsilon$', max=0.6, min=0.1, readout_format='.3f…"
      ]
     },
     "metadata": {},
     "output_type": "display_data"
    }
   ],
   "source": [
    "# Make the widget\n",
    "\n",
    "interact(plot2,\n",
    "         Epsilon = Epsilon_widget2,\n",
    "         PopGrowth = PopGrowth_widget2,\n",
    "         YearsPerGeneration = YearsPerGeneration_widget2,\n",
    "         Initialk = Initialk_widget1,\n",
    "         kMax = kMax_widget2,\n",
    "        );"
   ]
  },
  {
   "cell_type": "code",
   "execution_count": null,
   "metadata": {},
   "outputs": [],
   "source": []
  }
 ],
 "metadata": {
  "kernelspec": {
   "display_name": "Python 3",
   "language": "python",
   "name": "python3"
  },
  "language_info": {
   "codemirror_mode": {
    "name": "ipython",
    "version": 3
   },
   "file_extension": ".py",
   "mimetype": "text/x-python",
   "name": "python",
   "nbconvert_exporter": "python",
   "pygments_lexer": "ipython3",
   "version": "3.6.5"
  }
 },
 "nbformat": 4,
 "nbformat_minor": 2
}
